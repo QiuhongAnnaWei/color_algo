{
 "cells": [
  {
   "cell_type": "code",
   "execution_count": 158,
   "metadata": {},
   "outputs": [
    {
     "name": "stdout",
     "output_type": "stream",
     "text": [
      "\u001b[48;2;255;144;255m\u001b[38;2;0;135;228mLorem ipsum.\u001b[0m\n",
      "light 45.85746437212372 dark 100\n",
      "\u001b[48;2;0;135;228m\u001b[38;2;255;144;255mLorem ipsum.\u001b[0m\n",
      "\u001b[48;2;255;0;103m\u001b[38;2;72;0;0mLorem ipsum.\u001b[0m\n",
      "light 11.138893563684892 dark 61.88563065545503\n",
      "\u001b[48;2;72;0;0m\u001b[38;2;255;0;103mLorem ipsum.\u001b[0m\n",
      "\u001b[48;2;255;94;255m\u001b[38;2;172;0;190mLorem ipsum.\u001b[0m\n",
      "light 30.78834675405739 dark 73.5250762262793\n",
      "\u001b[48;2;172;0;190m\u001b[38;2;255;94;255mLorem ipsum.\u001b[0m\n",
      "\u001b[48;2;0;212;135m\u001b[38;2;0;42;48mLorem ipsum.\u001b[0m\n",
      "light 13.720965211470244 dark 73.60280718985672\n",
      "\u001b[48;2;0;42;48m\u001b[38;2;0;212;135mLorem ipsum.\u001b[0m\n",
      "\u001b[48;2;125;188;0m\u001b[38;2;0;61;191mLorem ipsum.\u001b[0m\n",
      "light 11.172460779510923 dark 69.82082413238632\n",
      "\u001b[48;2;0;61;191m\u001b[38;2;125;188;0mLorem ipsum.\u001b[0m\n",
      "\u001b[48;2;147;193;119m\u001b[38;2;0;57;0mLorem ipsum.\u001b[0m\n",
      "light 17.990796639962287 dark 73.52696375843823\n",
      "\u001b[48;2;0;57;0m\u001b[38;2;147;193;119mLorem ipsum.\u001b[0m\n",
      "\u001b[48;2;255;168;255m\u001b[38;2;29;133;41mLorem ipsum.\u001b[0m\n",
      "light 48.63130595449371 dark 100\n",
      "\u001b[48;2;29;133;41m\u001b[38;2;255;168;255mLorem ipsum.\u001b[0m\n",
      "\u001b[48;2;0;207;0m\u001b[38;2;0;50;192mLorem ipsum.\u001b[0m\n",
      "light 12.624093561158917 dark 67.78966676801214\n",
      "\u001b[48;2;0;50;192m\u001b[38;2;0;207;0mLorem ipsum.\u001b[0m\n",
      "\u001b[48;2;245;91;110m\u001b[38;2;146;0;120mLorem ipsum.\u001b[0m\n",
      "light 13.486950066350106 dark 60.63963013530597\n",
      "\u001b[48;2;146;0;120m\u001b[38;2;245;91;110mLorem ipsum.\u001b[0m\n",
      "\u001b[48;2;193;208;0m\u001b[38;2;158;0;255mLorem ipsum.\u001b[0m\n",
      "light 30.892046077290143 dark 80.2230055047289\n",
      "\u001b[48;2;158;0;255m\u001b[38;2;193;208;0mLorem ipsum.\u001b[0m\n"
     ]
    }
   ],
   "source": [
    "from colormath.color_objects import LabColor, XYZColor, sRGBColor\n",
    "from colormath.color_conversions import convert_color\n",
    "from colr import Colr as C\n",
    "import random as r\n",
    "\n",
    "#     print(C().rgb(r,g,b, 'Output.'))\n",
    "\n",
    "def lab_to_rgb(a, b, c):\n",
    "    lab = LabColor(a,b,c)\n",
    "    rgb = convert_color(lab, sRGBColor)\n",
    "    r = rgb.clamped_rgb_r * 255\n",
    "    g = rgb.clamped_rgb_g * 255\n",
    "    b = rgb.clamped_rgb_b * 255\n",
    "    return [r,g,b]\n",
    "\n",
    "# it looks slightly different than the initial lab, but when we \n",
    "# take the lab result and go back to rgb, the rgb is retained so I guess it's ok?\n",
    "def rgb_to_lab(a, b, c):\n",
    "    rgb = sRGBColor(a, b, c, is_upscaled=True)\n",
    "    xyz = convert_color(rgb, XYZColor, target_illuminant='d50')\n",
    "    lab = convert_color(xyz, LabColor)\n",
    "    return lab.get_value_tuple()\n",
    "\n",
    "def print_combo(fg, bg):\n",
    "    print(C().b_rgb(bg[0],bg[1],bg[2]) .rgb(fg[0],fg[1],fg[2], 'Lorem ipsum.'))\n",
    "\n",
    "# generates a high contrast color pairing\n",
    "# lab is l: [0,100] a: [-128, 128] b: [-128, 128]\n",
    "def generate_two_color():\n",
    "    light = r.uniform(0, 50)\n",
    "    dark = light + r.uniform(40, 60)\n",
    "    if (dark > 100):\n",
    "        dark = 100;\n",
    "        \n",
    "    a1 = r.uniform(-128, 128)\n",
    "    a2 = r.uniform(-128, 128)\n",
    "    b1 = r.uniform(-128, 128)\n",
    "    b2 = r.uniform(-128, 128)\n",
    "        \n",
    "    lab1 = LabColor(light, a1, a2)\n",
    "    lab2 = LabColor(dark, b1, b2)\n",
    "    rgb1 = lab_to_rgb(lab1.lab_l, lab1.lab_a, lab1.lab_b )\n",
    "    rgb2 = lab_to_rgb(lab2.lab_l, lab2.lab_a, lab2.lab_b,)\n",
    "    print_combo(rgb1, rgb2)\n",
    "    print_combo(rgb2, rgb1)\n",
    "    print(\"light\", light, \"dark\", dark)\n",
    "    \n",
    "for i in range(0, 10):\n",
    "    generate_two_color()\n"
   ]
  },
  {
   "cell_type": "code",
   "execution_count": null,
   "metadata": {},
   "outputs": [],
   "source": []
  },
  {
   "cell_type": "code",
   "execution_count": null,
   "metadata": {},
   "outputs": [],
   "source": []
  },
  {
   "cell_type": "code",
   "execution_count": null,
   "metadata": {},
   "outputs": [],
   "source": []
  },
  {
   "cell_type": "code",
   "execution_count": null,
   "metadata": {},
   "outputs": [],
   "source": []
  },
  {
   "cell_type": "code",
   "execution_count": null,
   "metadata": {},
   "outputs": [],
   "source": []
  }
 ],
 "metadata": {
  "kernelspec": {
   "display_name": "Python 3",
   "language": "python",
   "name": "python3"
  },
  "language_info": {
   "codemirror_mode": {
    "name": "ipython",
    "version": 3
   },
   "file_extension": ".py",
   "mimetype": "text/x-python",
   "name": "python",
   "nbconvert_exporter": "python",
   "pygments_lexer": "ipython3",
   "version": "3.7.1"
  }
 },
 "nbformat": 4,
 "nbformat_minor": 2
}
