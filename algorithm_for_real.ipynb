{
 "cells": [
  {
   "cell_type": "code",
   "execution_count": null,
   "metadata": {},
   "outputs": [],
   "source": [
    "# TODOS:\n",
    "\n",
    "# Make model object (with empty functions and instance variables) -- Start the template\n",
    "# - sample() - from GMM -- (already exists code) -- Katherine\n",
    "# - train() - \n",
    "# - generate_palette() -- Anna\n",
    "# - output() - output in json (labelling. check data/gallery for format but up to change if u think it's ugly) ** Katherine\n",
    "# ** Intelligently make stepping wheel (sometimes monochromatic) -- Anna\n",
    "\n",
    "# REFERENCSE: https://www.slynyrd.com/blog/2018/1/10/pixelblog-1-color-palette\n",
    "# HEURISTICS FOR HSL: http://hslpicker.com/"
   ]
  },
  {
   "cell_type": "code",
   "execution_count": null,
   "metadata": {},
   "outputs": [],
   "source": [
    "from colormath.color_objects import LabColor, XYZColor, sRGBColor, HSLColor, AdobeRGBColor\n",
    "from colormath.color_conversions import convert_color\n",
    "from colr import Colr as C\n",
    "import random as r\n",
    "\n",
    "# THIS NOTEBOOK A SECOND ATTEMPT AT COLOR\n",
    "# DEVELOPING HEURISTICS USING HSL THANKS TO https://www.slynyrd.com/blog/2018/1/10/pixelblog-1-color-palettes\n",
    "# THOUGHTS ON HSB COLOR RAMPS!\n",
    "\n",
    "def rgb_to_hsl(a, b, c):\n",
    "    rgb = sRGBColor(a, b, c, is_upscaled=True)\n",
    "    hsl = convert_color(rgb, HSLColor)\n",
    "    return hsl.get_value_tuple()\n",
    "    \n",
    "def hsl_to_rgb(a, b, c):\n",
    "    hsl = HSLColor(a, b, c)\n",
    "    rgb = convert_color(hsl, sRGBColor).get_value_tuple()\n",
    "    \n",
    "    return [rgb[0] * 255, rgb[1]*255, rgb[2]*255]\n",
    "\n",
    "# rgb inputs\n",
    "def print_combo(fg, bg):\n",
    "    for i in range(0,3):\n",
    "        if fg[i] > 255:\n",
    "            fg[i] = 255\n",
    "        if bg[i] > 255:\n",
    "            bg[i]= 255\n",
    "    print(C().b_rgb(bg[0], bg[1], bg[2]) .rgb(fg[0], fg[1], fg[2], 'Lorem ipsum.'))\n",
    "\n",
    "def bound(min_val, max_val, val):\n",
    "    new_val = val\n",
    "    if (val > max_val):\n",
    "         new_val = max_val\n",
    "    elif (val < min_val):\n",
    "        new_val = min_val\n",
    "    return new_val\n",
    "\n",
    "# LAB FUNCTIONS\n",
    "def generate_analogous(feature):\n",
    "    return bound(-128, 128, feature + r.uniform(-10, 10))\n",
    "\n",
    "def generate_contrast(feature):\n",
    "    return bound(-128, 128, feature + r.uniform(-100, 100))\n",
    "\n",
    "def average_color(c1, c2):\n",
    "    avg = []\n",
    "    for i in range(0,3):\n",
    "        avg.append((c1[i] + c2[i])/ 2)\n",
    "    return avg\n",
    "\n",
    "# verifies that the conversions work\n",
    "print(print_combo([192, 87, 70], [192, 87, 70]))\n",
    "hsl = rgb_to_hsl(192, 87, 70)\n",
    "print(\"hsl\", hsl)\n",
    "rgb = hsl_to_rgb(hsl[0], hsl[1], hsl[2])\n",
    "print(\"back to rgb\", rgb)"
   ]
  }
 ],
 "metadata": {
  "kernelspec": {
   "display_name": "Python 3",
   "language": "python",
   "name": "python3"
  },
  "language_info": {
   "codemirror_mode": {
    "name": "ipython",
    "version": 3
   },
   "file_extension": ".py",
   "mimetype": "text/x-python",
   "name": "python",
   "nbconvert_exporter": "python",
   "pygments_lexer": "ipython3",
   "version": "3.7.1"
  }
 },
 "nbformat": 4,
 "nbformat_minor": 2
}
